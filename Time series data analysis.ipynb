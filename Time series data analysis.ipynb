{
 "cells": [
  {
   "cell_type": "code",
   "execution_count": null,
   "metadata": {},
   "outputs": [],
   "source": [
    "import pyspark\n",
    "from pyspark.sql.functions import col\n",
    "from pyspark.sql.types import StringType,BooleanType,DateType\n",
    "#import data \n",
    "on_df = spark.sql(\"select * from df\")\n",
    "#convert data types to integer or as required \n",
    "on_df=on_df.withColumn(\"SensorOcc107\",col(\"SensorOcc107\").cast(\"integer\"))\n",
    "# converting datetime type\n",
    "sensors_on=sensors_on.withColumn(\"datetype\",to_date(col(\"date_time\"),\"yyyy-MM-dd\"))\n",
    "#handling missing data by imputing = for example putting '0' as substitute \n",
    "on_df=on_df.na.fill(value=0)"
   ]
  },
  {
   "cell_type": "code",
   "execution_count": null,
   "metadata": {},
   "outputs": [],
   "source": [
    "#creating new column by adding several columns \n",
    "on_df=on_df.withColumn(\"ts\",col(\"SensorOcc000\")+col(\"SensorOcc100\")+col(\"SensorOcc101\")+col(\"SensorOcc102\")+col(\"SensorOcc103\")+col(\"SensorOcc104\")+col(\"SensorOcc105\")+col(\"SensorOcc106\")+col(\"SensorOcc107\"))\n",
    "#creating subset by selecting varibles of interest\n",
    "on_df=on_df.select(\"ts\", \"identifier\", \"date_time\")\n",
    "#import Metadata for identifiers with specific selection criteria \n",
    "metadata = spark.sql(\"select * from metadata\")\n",
    "new_meta=metadata[(metadata[\"Country\"]==\"CA\") & (metadata[\"ProvinceState\"]==\"BC\") & (metadata['Number_of_Occupants']==2) & (metadata['Number_of_Remote_Sensors']>6)]\n",
    "new_meta=new_meta.toPandas()"
   ]
  },
  {
   "cell_type": "code",
   "execution_count": null,
   "metadata": {},
   "outputs": [],
   "source": [
    "#time zone handling \n",
    "import pytz\n",
    "eastern = pytz.timezone('MST')\n",
    "on_df=on_df.set_index(\"date_time\")\n",
    "on_df.index = on_df.index.tz_localize(pytz.utc).tz_convert(eastern)"
   ]
  },
  {
   "cell_type": "code",
   "execution_count": null,
   "metadata": {},
   "outputs": [],
   "source": [
    "#data wrangling \n",
    "import pandas as pd\n",
    "import numpy as np\n",
    "sensorFrame = pd.DataFrame(df.filter(regex=(\".*SensorOcc.*\")))\n",
    "sensorFrame = sensorFrame.fillna(value=np.nan)\n",
    "sensorFrame = sensorFrame.fillna(0)\n",
    "sensorFrame= sensorFrame.astype(int)\n",
    "sensorFrame[\"totalsensors\"] = sensorFrame.sum(axis=1)\n",
    "ts=pd.DataFrame(sensorFrame[\"totalsensors\"])\n",
    "del sensorFrame\n",
    "df2 = pd.merge(ts, df1,on=None,left_index=True, right_index=True)"
   ]
  },
  {
   "cell_type": "code",
   "execution_count": null,
   "metadata": {},
   "outputs": [],
   "source": [
    "#frequnce count for one variable \n",
    "df.select(countDistinct(\"identifier\")).show()"
   ]
  },
  {
   "cell_type": "code",
   "execution_count": null,
   "metadata": {},
   "outputs": [],
   "source": [
    "#frequency count group by variable \n",
    "tableqc=on_df.groupBy(\"datetype\").mean(\"ts\")"
   ]
  }
 ],
 "metadata": {
  "kernelspec": {
   "display_name": "Python 3",
   "language": "python",
   "name": "python3"
  },
  "language_info": {
   "codemirror_mode": {
    "name": "ipython",
    "version": 3
   },
   "file_extension": ".py",
   "mimetype": "text/x-python",
   "name": "python",
   "nbconvert_exporter": "python",
   "pygments_lexer": "ipython3",
   "version": "3.6.8"
  }
 },
 "nbformat": 4,
 "nbformat_minor": 2
}
